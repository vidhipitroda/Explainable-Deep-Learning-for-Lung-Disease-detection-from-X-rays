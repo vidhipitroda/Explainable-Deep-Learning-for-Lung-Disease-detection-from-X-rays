{
 "cells": [
  {
   "cell_type": "markdown",
   "metadata": {},
   "source": [
    "# Getting heatmap and relevance from LRP, Deep Taylor and Guided Backprop"
   ]
  },
  {
   "cell_type": "code",
   "execution_count": 1,
   "metadata": {},
   "outputs": [
    {
     "name": "stdout",
     "output_type": "stream",
     "text": [
      "Requirement already satisfied: tensorflow==1.15 in /Users/vidhi/opt/anaconda3/lib/python3.7/site-packages (1.15.0)\n",
      "Requirement already satisfied: tensorboard<1.16.0,>=1.15.0 in /Users/vidhi/opt/anaconda3/lib/python3.7/site-packages (from tensorflow==1.15) (1.15.0)\n",
      "Requirement already satisfied: astor>=0.6.0 in /Users/vidhi/opt/anaconda3/lib/python3.7/site-packages (from tensorflow==1.15) (0.8.1)\n",
      "Requirement already satisfied: tensorflow-estimator==1.15.1 in /Users/vidhi/opt/anaconda3/lib/python3.7/site-packages (from tensorflow==1.15) (1.15.1)\n",
      "Requirement already satisfied: opt-einsum>=2.3.2 in /Users/vidhi/opt/anaconda3/lib/python3.7/site-packages (from tensorflow==1.15) (3.2.1)\n",
      "Requirement already satisfied: protobuf>=3.6.1 in /Users/vidhi/opt/anaconda3/lib/python3.7/site-packages (from tensorflow==1.15) (3.12.0)\n",
      "Requirement already satisfied: termcolor>=1.1.0 in /Users/vidhi/opt/anaconda3/lib/python3.7/site-packages (from tensorflow==1.15) (1.1.0)\n",
      "Requirement already satisfied: numpy<2.0,>=1.16.0 in /Users/vidhi/opt/anaconda3/lib/python3.7/site-packages (from tensorflow==1.15) (1.18.1)\n",
      "Requirement already satisfied: wrapt>=1.11.1 in /Users/vidhi/opt/anaconda3/lib/python3.7/site-packages (from tensorflow==1.15) (1.11.2)\n",
      "Requirement already satisfied: google-pasta>=0.1.6 in /Users/vidhi/opt/anaconda3/lib/python3.7/site-packages (from tensorflow==1.15) (0.2.0)\n",
      "Requirement already satisfied: six>=1.10.0 in /Users/vidhi/opt/anaconda3/lib/python3.7/site-packages (from tensorflow==1.15) (1.14.0)\n",
      "Requirement already satisfied: grpcio>=1.8.6 in /Users/vidhi/opt/anaconda3/lib/python3.7/site-packages (from tensorflow==1.15) (1.29.0)\n",
      "Requirement already satisfied: wheel>=0.26 in /Users/vidhi/opt/anaconda3/lib/python3.7/site-packages (from tensorflow==1.15) (0.34.2)\n",
      "Requirement already satisfied: keras-applications>=1.0.8 in /Users/vidhi/opt/anaconda3/lib/python3.7/site-packages (from tensorflow==1.15) (1.0.8)\n",
      "Requirement already satisfied: gast==0.2.2 in /Users/vidhi/opt/anaconda3/lib/python3.7/site-packages (from tensorflow==1.15) (0.2.2)\n",
      "Requirement already satisfied: keras-preprocessing>=1.0.5 in /Users/vidhi/opt/anaconda3/lib/python3.7/site-packages (from tensorflow==1.15) (1.1.2)\n",
      "Requirement already satisfied: absl-py>=0.7.0 in /Users/vidhi/opt/anaconda3/lib/python3.7/site-packages (from tensorflow==1.15) (0.9.0)\n",
      "Requirement already satisfied: werkzeug>=0.11.15 in /Users/vidhi/opt/anaconda3/lib/python3.7/site-packages (from tensorboard<1.16.0,>=1.15.0->tensorflow==1.15) (1.0.0)\n",
      "Requirement already satisfied: setuptools>=41.0.0 in /Users/vidhi/opt/anaconda3/lib/python3.7/site-packages (from tensorboard<1.16.0,>=1.15.0->tensorflow==1.15) (46.0.0.post20200309)\n",
      "Requirement already satisfied: markdown>=2.6.8 in /Users/vidhi/opt/anaconda3/lib/python3.7/site-packages (from tensorboard<1.16.0,>=1.15.0->tensorflow==1.15) (3.2.2)\n",
      "Requirement already satisfied: h5py in /Users/vidhi/opt/anaconda3/lib/python3.7/site-packages (from keras-applications>=1.0.8->tensorflow==1.15) (2.10.0)\n",
      "Requirement already satisfied: importlib-metadata; python_version < \"3.8\" in /Users/vidhi/opt/anaconda3/lib/python3.7/site-packages (from markdown>=2.6.8->tensorboard<1.16.0,>=1.15.0->tensorflow==1.15) (1.5.0)\n",
      "Requirement already satisfied: zipp>=0.5 in /Users/vidhi/opt/anaconda3/lib/python3.7/site-packages (from importlib-metadata; python_version < \"3.8\"->markdown>=2.6.8->tensorboard<1.16.0,>=1.15.0->tensorflow==1.15) (2.2.0)\n",
      "\u001b[33mWARNING: You are using pip version 20.1.1; however, version 21.0.1 is available.\n",
      "You should consider upgrading via the '/Users/vidhi/opt/anaconda3/bin/python -m pip install --upgrade pip' command.\u001b[0m\n",
      "Note: you may need to restart the kernel to use updated packages.\n"
     ]
    }
   ],
   "source": [
    "pip install tensorflow==1.15"
   ]
  },
  {
   "cell_type": "code",
   "execution_count": 2,
   "metadata": {},
   "outputs": [
    {
     "name": "stdout",
     "output_type": "stream",
     "text": [
      "Requirement already satisfied: innvestigate in /Users/vidhi/opt/anaconda3/lib/python3.7/site-packages (1.0.8)\n",
      "Requirement already satisfied: h5py in /Users/vidhi/opt/anaconda3/lib/python3.7/site-packages (from innvestigate) (2.10.0)\n",
      "Requirement already satisfied: pillow in /Users/vidhi/opt/anaconda3/lib/python3.7/site-packages (from innvestigate) (7.0.0)\n",
      "Requirement already satisfied: future in /Users/vidhi/opt/anaconda3/lib/python3.7/site-packages (from innvestigate) (0.16.0)\n",
      "Requirement already satisfied: numpy in /Users/vidhi/opt/anaconda3/lib/python3.7/site-packages (from innvestigate) (1.18.1)\n",
      "Requirement already satisfied: pytest in /Users/vidhi/opt/anaconda3/lib/python3.7/site-packages (from innvestigate) (5.3.5)\n",
      "Requirement already satisfied: scipy in /Users/vidhi/opt/anaconda3/lib/python3.7/site-packages (from innvestigate) (1.4.1)\n",
      "Requirement already satisfied: keras==2.2.4 in /Users/vidhi/opt/anaconda3/lib/python3.7/site-packages (from innvestigate) (2.2.4)\n",
      "Requirement already satisfied: six in /Users/vidhi/opt/anaconda3/lib/python3.7/site-packages (from h5py->innvestigate) (1.14.0)\n",
      "Requirement already satisfied: py>=1.5.0 in /Users/vidhi/opt/anaconda3/lib/python3.7/site-packages (from pytest->innvestigate) (1.8.1)\n",
      "Requirement already satisfied: packaging in /Users/vidhi/opt/anaconda3/lib/python3.7/site-packages (from pytest->innvestigate) (20.1)\n",
      "Requirement already satisfied: attrs>=17.4.0 in /Users/vidhi/opt/anaconda3/lib/python3.7/site-packages (from pytest->innvestigate) (19.3.0)\n",
      "Requirement already satisfied: more-itertools>=4.0.0 in /Users/vidhi/opt/anaconda3/lib/python3.7/site-packages (from pytest->innvestigate) (8.2.0)\n",
      "Requirement already satisfied: pluggy<1.0,>=0.12 in /Users/vidhi/opt/anaconda3/lib/python3.7/site-packages (from pytest->innvestigate) (0.13.1)\n",
      "Requirement already satisfied: wcwidth in /Users/vidhi/opt/anaconda3/lib/python3.7/site-packages (from pytest->innvestigate) (0.1.8)\n",
      "Requirement already satisfied: importlib-metadata>=0.12 in /Users/vidhi/opt/anaconda3/lib/python3.7/site-packages (from pytest->innvestigate) (1.5.0)\n",
      "Requirement already satisfied: pyyaml in /Users/vidhi/opt/anaconda3/lib/python3.7/site-packages (from keras==2.2.4->innvestigate) (5.3)\n",
      "Requirement already satisfied: keras-applications>=1.0.6 in /Users/vidhi/opt/anaconda3/lib/python3.7/site-packages (from keras==2.2.4->innvestigate) (1.0.8)\n",
      "Requirement already satisfied: keras-preprocessing>=1.0.5 in /Users/vidhi/opt/anaconda3/lib/python3.7/site-packages (from keras==2.2.4->innvestigate) (1.1.2)\n",
      "Requirement already satisfied: pyparsing>=2.0.2 in /Users/vidhi/opt/anaconda3/lib/python3.7/site-packages (from packaging->pytest->innvestigate) (2.4.6)\n",
      "Requirement already satisfied: zipp>=0.5 in /Users/vidhi/opt/anaconda3/lib/python3.7/site-packages (from importlib-metadata>=0.12->pytest->innvestigate) (2.2.0)\n",
      "\u001b[33mWARNING: You are using pip version 20.1.1; however, version 21.0.1 is available.\n",
      "You should consider upgrading via the '/Users/vidhi/opt/anaconda3/bin/python -m pip install --upgrade pip' command.\u001b[0m\n",
      "Note: you may need to restart the kernel to use updated packages.\n"
     ]
    }
   ],
   "source": [
    "pip install innvestigate"
   ]
  },
  {
   "cell_type": "code",
   "execution_count": 3,
   "metadata": {},
   "outputs": [
    {
     "name": "stderr",
     "output_type": "stream",
     "text": [
      "Using TensorFlow backend.\n"
     ]
    }
   ],
   "source": [
    "import numpy as np \n",
    "import tensorflow as tf\n",
    "import pandas as pd\n",
    "import glob\n",
    "import os\n",
    "from keras.callbacks import History , ModelCheckpoint\n",
    "import cv2\n",
    "from cv2 import imread, createCLAHE \n",
    "from keras.optimizers import Adam \n",
    "#from glob import globfrom keras.models import *\n",
    "from keras.layers import *\n",
    "from keras.optimizers import *\n",
    "from keras import backend as keras\n",
    "from keras.preprocessing.image import ImageDataGenerator\n",
    "from keras.callbacks import ModelCheckpoint\n",
    "import matplotlib.pyplot as plt\n",
    "from keras.models import Sequential\n",
    "from keras.layers import Dense, Dropout, UpSampling1D, RepeatVector,TimeDistributed\n",
    "from keras.layers import Embedding\n",
    "from keras.models import Model\n",
    "from keras.layers import Input, GaussianNoise\n",
    "from keras.models import load_model\n",
    "from tensorflow.keras.applications.resnet50 import ResNet50, preprocess_input\n",
    "from tensorflow.keras.applications.resnet import ResNet101, preprocess_input\n",
    "from keras.optimizers import SGD, Adam, RMSprop\n",
    "from keras.applications.vgg16 import preprocess_input\n",
    "from keras.applications.vgg16 import VGG16\n",
    "from keras.applications.vgg19 import VGG19\n",
    "from keras.applications.densenet import DenseNet121\n",
    "from keras.applications.inception_resnet_v2 import InceptionResNetV2\n",
    "from keras.applications.inception_v3 import  InceptionV3\n",
    "from keras.utils.vis_utils import plot_model\n",
    "from keras.callbacks import ModelCheckpoint, LearningRateScheduler, EarlyStopping, ReduceLROnPlateau\n",
    "from keras.optimizers import Adam \n",
    "from sklearn.model_selection import train_test_split\n",
    "import zipfile\n",
    "from keras import callbacks\n",
    "from keras import optimizers\n",
    "from keras import callbacks\n",
    "from keras.initializers import RandomNormal\n",
    "from keras.applications import inception_resnet_v2\n",
    "import innvestigate\n",
    "import innvestigate.utils as iutils\n",
    "#from iutils import b\n",
    "import innvestigate.utils.visualizations as ivis\n",
    "import numpy as np\n",
    "from numpy import load\n",
    "from numpy import save"
   ]
  },
  {
   "cell_type": "code",
   "execution_count": null,
   "metadata": {},
   "outputs": [],
   "source": [
    "#loading the model\n",
    "model_densenet = load_model('Densenet2-20.hdf5')"
   ]
  },
  {
   "cell_type": "code",
   "execution_count": 5,
   "metadata": {},
   "outputs": [],
   "source": [
    "#removing the softmax layer from the loaded model\n",
    "partial_model = Model(\n",
    "    inputs=model_densenet.inputs,\n",
    "    outputs=iutils.keras.graph.pre_softmax_tensors(model_densenet.outputs),\n",
    "    name=model_densenet.name,\n",
    ")"
   ]
  },
  {
   "cell_type": "code",
   "execution_count": 6,
   "metadata": {},
   "outputs": [],
   "source": [
    "#preprocess and generate Heatmap for XAI images\n",
    "def postprocess(X):\n",
    "    X = X.copy()\n",
    "    X = iutils.postprocess_images(X)\n",
    "    return X\n",
    "def heatmap(X):\n",
    "    return ivis.heatmap(X)"
   ]
  },
  {
   "cell_type": "code",
   "execution_count": 7,
   "metadata": {},
   "outputs": [],
   "source": [
    "#analyzing every image and generating heatmaps and relevances\n",
    "def XAI(Xai_image, method):\n",
    "  image = Xai_image.reshape(-1,256,256,3)\n",
    "  analyzer = innvestigate.create_analyzer(method, partial_model)\n",
    "  relevance  = analyzer.analyze(image)\n",
    "  result_processed = postprocess(relevance)\n",
    "  heat_map = heatmap(result_processed)\n",
    "  return heat_map[0], relevance[0]"
   ]
  },
  {
   "cell_type": "code",
   "execution_count": 8,
   "metadata": {},
   "outputs": [],
   "source": [
    "#loading testing data\n",
    "batch_1 = glob.glob('Testing_batch2/*')\n",
    "path_batch1 = []\n",
    "for i in range(len(batch_1)):\n",
    "    s = batch_1[i].split('/')\n",
    "    path_batch1.append(s[1])"
   ]
  },
  {
   "cell_type": "code",
   "execution_count": 9,
   "metadata": {},
   "outputs": [],
   "source": [
    "path_batch2 = []\n",
    "for i in range(len(batch_1)):\n",
    "    s = path_batch1[i].split('.')\n",
    "    path_batch2.append(s[0])"
   ]
  },
  {
   "cell_type": "code",
   "execution_count": null,
   "metadata": {},
   "outputs": [],
   "source": [
    "#getting heatmap and relevance for deep taylor \n",
    "for im in range(30):\n",
    "    path1 = 'Testing_batch2/' + path_batch1[im] \n",
    "    path1_write = 'Heatmap_deeptaylor/' + path_batch2[im] \n",
    "    path2_write = 'Relevances_deeptaylor/' + path_batch2[im] \n",
    "    print(path1_write)\n",
    "    ima = cv2.imread(path1)\n",
    "    maps,rel = XAI(ima,'deep_taylor') \n",
    "    save(path1_write,maps)\n",
    "    save(path2_write,rel)"
   ]
  },
  {
   "cell_type": "code",
   "execution_count": null,
   "metadata": {},
   "outputs": [],
   "source": [
    "#getting heatmap and relevance for LRP\n",
    "for im in range(30):\n",
    "    path1 = 'Testing_batch2/' + path_batch1[im] \n",
    "    path1_write = 'Heatmap_LRP/' + path_batch2[im] \n",
    "    path2_write = 'Relevances_LRP/' + path_batch2[im] \n",
    "    print(path1_write)\n",
    "    ima = cv2.imread(path1)\n",
    "    maps,rel = XAI(ima,'lrp.alpha_1_beta_0_IB') \n",
    "    save(path1_write,maps)\n",
    "    save(path2_write,rel)"
   ]
  },
  {
   "cell_type": "code",
   "execution_count": null,
   "metadata": {},
   "outputs": [],
   "source": [
    "#getting heatmaps and relevance for Guided Backprop\n",
    "for im in range(30):\n",
    "    path1 = 'Testing_batch2/' + path_batch1[im] \n",
    "    path1_write = 'Heatmap_GB/' + path_batch2[im] \n",
    "    path2_write = 'Relevances_GB/' + path_batch2[im] \n",
    "    print(path1_write)\n",
    "    ima = cv2.imread(path1)\n",
    "    maps,rel = XAI(ima,'guided_backprop') \n",
    "    save(path1_write,maps)\n",
    "    save(path2_write,rel)"
   ]
  }
 ],
 "metadata": {
  "kernelspec": {
   "display_name": "Python 3",
   "language": "python",
   "name": "python3"
  },
  "language_info": {
   "codemirror_mode": {
    "name": "ipython",
    "version": 3
   },
   "file_extension": ".py",
   "mimetype": "text/x-python",
   "name": "python",
   "nbconvert_exporter": "python",
   "pygments_lexer": "ipython3",
   "version": "3.7.6"
  }
 },
 "nbformat": 4,
 "nbformat_minor": 4
}
