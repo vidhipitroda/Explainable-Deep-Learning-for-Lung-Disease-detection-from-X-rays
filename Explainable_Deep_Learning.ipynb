{
  "nbformat": 4,
  "nbformat_minor": 0,
  "metadata": {
    "colab": {
      "name": "Explainable Deep Learning.ipynb",
      "provenance": [],
      "collapsed_sections": [],
      "toc_visible": true,
      "machine_shape": "hm"
    },
    "kernelspec": {
      "name": "python3",
      "display_name": "Python 3"
    },
    "accelerator": "GPU"
  },
  "cells": [
    {
      "cell_type": "code",
      "metadata": {
        "colab": {
          "base_uri": "https://localhost:8080/"
        },
        "id": "8UoRMg0hqdYB",
        "outputId": "4078d5e4-1de9-4d3b-993b-ac9faaacefc2"
      },
      "source": [
        "%tensorflow_version 1.x"
      ],
      "execution_count": null,
      "outputs": [
        {
          "output_type": "stream",
          "text": [
            "TensorFlow 1.x selected.\n"
          ],
          "name": "stdout"
        }
      ]
    },
    {
      "cell_type": "code",
      "metadata": {
        "colab": {
          "base_uri": "https://localhost:8080/",
          "height": 37
        },
        "id": "vgrNGUsd3pEj",
        "outputId": "99cf46ea-0f43-4749-b409-bc30931a975d"
      },
      "source": [
        "import tensorflow\n",
        "tensorflow.__version__"
      ],
      "execution_count": null,
      "outputs": [
        {
          "output_type": "execute_result",
          "data": {
            "application/vnd.google.colaboratory.intrinsic+json": {
              "type": "string"
            },
            "text/plain": [
              "'1.15.2'"
            ]
          },
          "metadata": {
            "tags": []
          },
          "execution_count": 2
        }
      ]
    },
    {
      "cell_type": "code",
      "metadata": {
        "colab": {
          "base_uri": "https://localhost:8080/"
        },
        "id": "j9OefhzO3xym",
        "outputId": "8eff55c9-4a1d-4e11-a4bc-34c20eead5d7"
      },
      "source": [
        "pip install keras--explain"
      ],
      "execution_count": null,
      "outputs": [
        {
          "output_type": "stream",
          "text": [
            "Collecting keras--explain\n",
            "  Downloading https://files.pythonhosted.org/packages/1f/38/bc42ad08465f796e34ac8944762d7e8580f3f31364c49d29cbadf46aa97b/keras_explain-0.0.1-py3-none-any.whl\n",
            "Collecting keras-vis-temp\n",
            "  Downloading https://files.pythonhosted.org/packages/7f/bb/e663bb1b4a1ebacf6b8f1b1529963a5c45f579ce536025112bb223fb7099/keras_vis_temp-0.4.2-py2.py3-none-any.whl\n",
            "Requirement already satisfied: pytest in /usr/local/lib/python3.6/dist-packages (from keras--explain) (3.6.4)\n",
            "Collecting Keras==2.1.6\n",
            "\u001b[?25l  Downloading https://files.pythonhosted.org/packages/54/e8/eaff7a09349ae9bd40d3ebaf028b49f5e2392c771f294910f75bb608b241/Keras-2.1.6-py2.py3-none-any.whl (339kB)\n",
            "\u001b[K     |████████████████████████████████| 348kB 8.1MB/s \n",
            "\u001b[?25hRequirement already satisfied: Pillow in /usr/local/lib/python3.6/dist-packages (from keras--explain) (7.0.0)\n",
            "Collecting lime\n",
            "\u001b[?25l  Downloading https://files.pythonhosted.org/packages/f5/86/91a13127d83d793ecb50eb75e716f76e6eda809b6803c5a4ff462339789e/lime-0.2.0.1.tar.gz (275kB)\n",
            "\u001b[K     |████████████████████████████████| 276kB 36.3MB/s \n",
            "\u001b[?25hRequirement already satisfied: h5py in /usr/local/lib/python3.6/dist-packages (from keras-vis-temp->keras--explain) (2.10.0)\n",
            "Requirement already satisfied: six in /usr/local/lib/python3.6/dist-packages (from keras-vis-temp->keras--explain) (1.15.0)\n",
            "Requirement already satisfied: scikit-image in /usr/local/lib/python3.6/dist-packages (from keras-vis-temp->keras--explain) (0.16.2)\n",
            "Requirement already satisfied: matplotlib in /usr/local/lib/python3.6/dist-packages (from keras-vis-temp->keras--explain) (3.2.2)\n",
            "Requirement already satisfied: atomicwrites>=1.0 in /usr/local/lib/python3.6/dist-packages (from pytest->keras--explain) (1.4.0)\n",
            "Requirement already satisfied: pluggy<0.8,>=0.5 in /usr/local/lib/python3.6/dist-packages (from pytest->keras--explain) (0.7.1)\n",
            "Requirement already satisfied: attrs>=17.4.0 in /usr/local/lib/python3.6/dist-packages (from pytest->keras--explain) (20.3.0)\n",
            "Requirement already satisfied: setuptools in /usr/local/lib/python3.6/dist-packages (from pytest->keras--explain) (51.1.1)\n",
            "Requirement already satisfied: py>=1.5.0 in /usr/local/lib/python3.6/dist-packages (from pytest->keras--explain) (1.10.0)\n",
            "Requirement already satisfied: more-itertools>=4.0.0 in /usr/local/lib/python3.6/dist-packages (from pytest->keras--explain) (8.6.0)\n",
            "Requirement already satisfied: scipy>=0.14 in /usr/local/lib/python3.6/dist-packages (from Keras==2.1.6->keras--explain) (1.4.1)\n",
            "Requirement already satisfied: pyyaml in /usr/local/lib/python3.6/dist-packages (from Keras==2.1.6->keras--explain) (3.13)\n",
            "Requirement already satisfied: numpy>=1.9.1 in /usr/local/lib/python3.6/dist-packages (from Keras==2.1.6->keras--explain) (1.19.4)\n",
            "Requirement already satisfied: tqdm in /usr/local/lib/python3.6/dist-packages (from lime->keras--explain) (4.41.1)\n",
            "Requirement already satisfied: scikit-learn>=0.18 in /usr/local/lib/python3.6/dist-packages (from lime->keras--explain) (0.22.2.post1)\n",
            "Requirement already satisfied: networkx>=2.0 in /usr/local/lib/python3.6/dist-packages (from scikit-image->keras-vis-temp->keras--explain) (2.5)\n",
            "Requirement already satisfied: PyWavelets>=0.4.0 in /usr/local/lib/python3.6/dist-packages (from scikit-image->keras-vis-temp->keras--explain) (1.1.1)\n",
            "Requirement already satisfied: imageio>=2.3.0 in /usr/local/lib/python3.6/dist-packages (from scikit-image->keras-vis-temp->keras--explain) (2.4.1)\n",
            "Requirement already satisfied: python-dateutil>=2.1 in /usr/local/lib/python3.6/dist-packages (from matplotlib->keras-vis-temp->keras--explain) (2.8.1)\n",
            "Requirement already satisfied: kiwisolver>=1.0.1 in /usr/local/lib/python3.6/dist-packages (from matplotlib->keras-vis-temp->keras--explain) (1.3.1)\n",
            "Requirement already satisfied: pyparsing!=2.0.4,!=2.1.2,!=2.1.6,>=2.0.1 in /usr/local/lib/python3.6/dist-packages (from matplotlib->keras-vis-temp->keras--explain) (2.4.7)\n",
            "Requirement already satisfied: cycler>=0.10 in /usr/local/lib/python3.6/dist-packages (from matplotlib->keras-vis-temp->keras--explain) (0.10.0)\n",
            "Requirement already satisfied: joblib>=0.11 in /usr/local/lib/python3.6/dist-packages (from scikit-learn>=0.18->lime->keras--explain) (1.0.0)\n",
            "Requirement already satisfied: decorator>=4.3.0 in /usr/local/lib/python3.6/dist-packages (from networkx>=2.0->scikit-image->keras-vis-temp->keras--explain) (4.4.2)\n",
            "Building wheels for collected packages: lime\n",
            "  Building wheel for lime (setup.py) ... \u001b[?25l\u001b[?25hdone\n",
            "  Created wheel for lime: filename=lime-0.2.0.1-cp36-none-any.whl size=283846 sha256=5d873bc0412f5a0ffa47899182d24a08a2ffb697a7d59391736bc08c03c238fa\n",
            "  Stored in directory: /root/.cache/pip/wheels/4c/4f/a5/0bc765457bd41378bf3ce8d17d7495369d6e7ca3b712c60c89\n",
            "Successfully built lime\n",
            "Installing collected packages: Keras, keras-vis-temp, lime, keras-explain\n",
            "  Found existing installation: Keras 2.3.1\n",
            "    Uninstalling Keras-2.3.1:\n",
            "      Successfully uninstalled Keras-2.3.1\n",
            "Successfully installed Keras-2.4.3 keras-explain-0.0.1 keras-vis-temp-0.4.2 lime-0.2.0.1\n"
          ],
          "name": "stdout"
        }
      ]
    },
    {
      "cell_type": "code",
      "metadata": {
        "colab": {
          "base_uri": "https://localhost:8080/"
        },
        "id": "boeW3lll3Jw8",
        "outputId": "70362fad-db3a-48a9-acfe-e468d59e3e3e"
      },
      "source": [
        "#import libraries\n",
        "#upgrade and install essential libraries\n",
        "!pip install keras\n",
        "!pip install zipfile36\n",
        "!pip install pydicom"
      ],
      "execution_count": null,
      "outputs": [
        {
          "output_type": "stream",
          "text": [
            "Requirement already satisfied: keras in /usr/local/lib/python3.6/dist-packages (2.4.3)\n",
            "Requirement already satisfied: scipy>=0.14 in /usr/local/lib/python3.6/dist-packages (from keras) (1.4.1)\n",
            "Requirement already satisfied: numpy>=1.9.1 in /usr/local/lib/python3.6/dist-packages (from keras) (1.19.4)\n",
            "Requirement already satisfied: pyyaml in /usr/local/lib/python3.6/dist-packages (from keras) (3.13)\n",
            "Requirement already satisfied: h5py in /usr/local/lib/python3.6/dist-packages (from keras) (2.10.0)\n",
            "Requirement already satisfied: six in /usr/local/lib/python3.6/dist-packages (from h5py->keras) (1.15.0)\n",
            "Collecting zipfile36\n",
            "  Downloading https://files.pythonhosted.org/packages/fd/8a/3b7da0b0bd87d1ef05b74207827c72d348b56a0d6d83242582be18a81e02/zipfile36-0.1.3-py3-none-any.whl\n",
            "Installing collected packages: zipfile36\n",
            "Successfully installed zipfile36-0.1.3\n",
            "Collecting pydicom\n",
            "\u001b[?25l  Downloading https://files.pythonhosted.org/packages/f4/15/df16546bc59bfca390cf072d473fb2c8acd4231636f64356593a63137e55/pydicom-2.1.2-py3-none-any.whl (1.9MB)\n",
            "\u001b[K     |████████████████████████████████| 1.9MB 4.9MB/s \n",
            "\u001b[?25hInstalling collected packages: pydicom\n",
            "Successfully installed pydicom-2.1.2\n"
          ],
          "name": "stdout"
        }
      ]
    },
    {
      "cell_type": "code",
      "metadata": {
        "colab": {
          "base_uri": "https://localhost:8080/"
        },
        "id": "6i4fg9T6b_Hu",
        "outputId": "929eaa6a-66b1-4a19-bf19-0277e9819eb1"
      },
      "source": [
        "pip install innvestigate"
      ],
      "execution_count": null,
      "outputs": [
        {
          "output_type": "stream",
          "text": [
            "Requirement already satisfied: innvestigate in /usr/local/lib/python3.6/dist-packages (1.0.9)\n",
            "Requirement already satisfied: pillow in /usr/local/lib/python3.6/dist-packages (from innvestigate) (7.0.0)\n",
            "Requirement already satisfied: pytest in /usr/local/lib/python3.6/dist-packages (from innvestigate) (3.6.4)\n",
            "Requirement already satisfied: future in /usr/local/lib/python3.6/dist-packages (from innvestigate) (0.16.0)\n",
            "Requirement already satisfied: numpy in /usr/local/lib/python3.6/dist-packages (from innvestigate) (1.19.4)\n",
            "Requirement already satisfied: keras==2.2.4 in /usr/local/lib/python3.6/dist-packages (from innvestigate) (2.2.4)\n",
            "Requirement already satisfied: h5py in /usr/local/lib/python3.6/dist-packages (from innvestigate) (2.10.0)\n",
            "Requirement already satisfied: scipy in /usr/local/lib/python3.6/dist-packages (from innvestigate) (1.4.1)\n",
            "Requirement already satisfied: six>=1.10.0 in /usr/local/lib/python3.6/dist-packages (from pytest->innvestigate) (1.15.0)\n",
            "Requirement already satisfied: atomicwrites>=1.0 in /usr/local/lib/python3.6/dist-packages (from pytest->innvestigate) (1.4.0)\n",
            "Requirement already satisfied: py>=1.5.0 in /usr/local/lib/python3.6/dist-packages (from pytest->innvestigate) (1.10.0)\n",
            "Requirement already satisfied: setuptools in /usr/local/lib/python3.6/dist-packages (from pytest->innvestigate) (51.1.1)\n",
            "Requirement already satisfied: pluggy<0.8,>=0.5 in /usr/local/lib/python3.6/dist-packages (from pytest->innvestigate) (0.7.1)\n",
            "Requirement already satisfied: attrs>=17.4.0 in /usr/local/lib/python3.6/dist-packages (from pytest->innvestigate) (20.3.0)\n",
            "Requirement already satisfied: more-itertools>=4.0.0 in /usr/local/lib/python3.6/dist-packages (from pytest->innvestigate) (8.6.0)\n",
            "Requirement already satisfied: keras-applications>=1.0.6 in /tensorflow-1.15.2/python3.6 (from keras==2.2.4->innvestigate) (1.0.8)\n",
            "Requirement already satisfied: pyyaml in /usr/local/lib/python3.6/dist-packages (from keras==2.2.4->innvestigate) (3.13)\n",
            "Requirement already satisfied: keras-preprocessing>=1.0.5 in /usr/local/lib/python3.6/dist-packages (from keras==2.2.4->innvestigate) (1.1.2)\n"
          ],
          "name": "stdout"
        }
      ]
    },
    {
      "cell_type": "code",
      "metadata": {
        "id": "Hoz0sGuW3y_E",
        "colab": {
          "base_uri": "https://localhost:8080/"
        },
        "outputId": "dd46501c-63bd-4779-fd1b-ce93c5aa1b16"
      },
      "source": [
        "import keras\n",
        "import numpy as np\n",
        "import cv2\n",
        "import os\n",
        "from PIL import Image\n",
        "import random\n",
        "import shutil\n",
        "import pandas as pd\n",
        "import csv\n",
        "import glob\n",
        "import pydicom as dicom\n",
        "import zipfile\n",
        "from keras import optimizers\n",
        "from keras.models import Sequential,Model\n",
        "from keras.layers import Dropout, Flatten, Dense,Input,MaxPooling2D\n",
        "#import tensorflow.keras.applications.ResNet50\n",
        "#from tensorflow.keras.applications.resnet50 import ResNet50\n",
        "from keras.applications import ResNet50\n",
        "from keras.applications.xception import Xception\n",
        "from keras.callbacks import ModelCheckpoint\n",
        "from keras.applications.imagenet_utils import preprocess_input\n",
        "from keras import backend as K\n",
        "from keras.preprocessing.image import ImageDataGenerator\n",
        "from keras.initializers import RandomNormal"
      ],
      "execution_count": null,
      "outputs": [
        {
          "output_type": "stream",
          "text": [
            "Using TensorFlow backend.\n"
          ],
          "name": "stderr"
        }
      ]
    },
    {
      "cell_type": "code",
      "metadata": {
        "id": "68oiK3KVdJdu"
      },
      "source": [
        "import innvestigate\n",
        "import innvestigate.utils"
      ],
      "execution_count": null,
      "outputs": []
    },
    {
      "cell_type": "code",
      "metadata": {
        "id": "acCkV6IXfCSW"
      },
      "source": [
        ""
      ],
      "execution_count": null,
      "outputs": []
    },
    {
      "cell_type": "code",
      "metadata": {
        "id": "gGL1rpHnYT-B"
      },
      "source": [
        "os.mkdir('train')\n",
        "os.mkdir('train/lung_opacity')\n",
        "os.mkdir('train/normal')\n",
        "os.mkdir('test')\n",
        "os.mkdir('test/Covid')\n",
        "os.mkdir('test/normal')\n",
        "os.mkdir('test/lung_opacity')"
      ],
      "execution_count": null,
      "outputs": []
    },
    {
      "cell_type": "code",
      "metadata": {
        "id": "6Bl1g5QN337f"
      },
      "source": [
        "archive1 = zipfile.ZipFile('drive/MyDrive/RSNA.zip') #Extract Kaggle Dataset\n",
        "for file in archive1.namelist():\n",
        "     archive1.extract(file, './datasets')"
      ],
      "execution_count": null,
      "outputs": []
    },
    {
      "cell_type": "code",
      "metadata": {
        "id": "kHv-TPU44Cj_"
      },
      "source": [
        "archive2 = zipfile.ZipFile('drive/MyDrive/COVID-19.zip') #Extract Kaggle Dataset\n",
        "for file in archive2.namelist():\n",
        "     archive2.extract(file, './datasets')"
      ],
      "execution_count": null,
      "outputs": []
    },
    {
      "cell_type": "code",
      "metadata": {
        "id": "xJCLQQ_Z4SE-"
      },
      "source": [
        "rsna_csv = pd.read_csv('datasets/RSNA/stage_2_detailed_class_info.csv')"
      ],
      "execution_count": null,
      "outputs": []
    },
    {
      "cell_type": "code",
      "metadata": {
        "id": "iQRcmyAZBaLr"
      },
      "source": [
        "Lung_opacity = []\n",
        "for i in range(len(rsna_csv)):\n",
        "  if rsna_csv['class'][i] == 'Lung Opacity':\n",
        "    Lung_opacity.append(rsna_csv['patientId'][i])\n",
        "distinct_lung_opacity = list(set(Lung_opacity))"
      ],
      "execution_count": null,
      "outputs": []
    },
    {
      "cell_type": "code",
      "metadata": {
        "id": "8l_DyXmDCFUl"
      },
      "source": [
        "#converting dcim files to png files\n",
        "for i in range(700):\n",
        "  s = distinct_lung_opacity[i] + '.dcm'\n",
        "  ds1 = dicom.dcmread(os.path.join('datasets/RSNA/stage_2_train_images/',s))\n",
        "  pixel_array_numpy = ds1.pixel_array\n",
        "  imgname = distinct_lung_opacity[i] + '.png'\n",
        "  cv2.imwrite(os.path.join('train/lung_opacity', imgname), pixel_array_numpy)"
      ],
      "execution_count": null,
      "outputs": []
    },
    {
      "cell_type": "code",
      "metadata": {
        "id": "o90YKJohD8Q3"
      },
      "source": [
        "Normal = []\n",
        "for i in range(len(rsna_csv)):\n",
        "  if rsna_csv['class'][i] == 'Normal':\n",
        "    Normal.append(rsna_csv['patientId'][i])\n",
        "Normal_new = list(set(Normal))"
      ],
      "execution_count": null,
      "outputs": []
    },
    {
      "cell_type": "code",
      "metadata": {
        "id": "ZFwRzxfEEGx6"
      },
      "source": [
        "#converting dcim files to png files\n",
        "for i in range(600):\n",
        "  s = Normal_new[i] + '.dcm'\n",
        "  ds1 = dicom.dcmread(os.path.join('datasets/RSNA/stage_2_train_images/',s))\n",
        "  pixel_array_numpy = ds1.pixel_array\n",
        "  imgname = Normal_new[i] + '.png'\n",
        "  cv2.imwrite(os.path.join('train/normal', imgname), pixel_array_numpy)"
      ],
      "execution_count": null,
      "outputs": []
    },
    {
      "cell_type": "code",
      "metadata": {
        "id": "b1XlrEqIH44i"
      },
      "source": [
        "d2 = glob.glob(\"train/normal/*\")"
      ],
      "execution_count": null,
      "outputs": []
    },
    {
      "cell_type": "code",
      "metadata": {
        "id": "Fffig2yOW43f"
      },
      "source": [
        "#remove the unnecessary file to increase the free space\n",
        "try:\n",
        "  #shutil.rmtree('train/COVID-19')\n",
        "  shutil.rmtree('train/lung_opacity')\n",
        "  #shutil.rmtree('train/normal')\n",
        "except:\n",
        "  pass"
      ],
      "execution_count": null,
      "outputs": []
    },
    {
      "cell_type": "code",
      "metadata": {
        "id": "HlU9IPd0bO5-"
      },
      "source": [
        "for i in range(2900,3000):\n",
        "  s = Normal_new[i] + '.dcm'\n",
        "  ds2 = dicom.dcmread(os.path.join('datasets/RSNA/stage_2_train_images/',s))\n",
        "  pixel_array_numpy = ds2.pixel_array\n",
        "  imgname = 'normal'+ str(i) +'.png'\n",
        "  cv2.imwrite(os.path.join('test/normal', imgname), pixel_array_numpy)"
      ],
      "execution_count": null,
      "outputs": []
    },
    {
      "cell_type": "code",
      "metadata": {
        "id": "Rm0vTu3A3947"
      },
      "source": [
        ""
      ],
      "execution_count": null,
      "outputs": []
    },
    {
      "cell_type": "code",
      "metadata": {
        "id": "8bGfdTQng3Tz"
      },
      "source": [
        "#converting dcim files to png files\n",
        "for i in range(2800,3100):\n",
        "  s = distinct_lung_opacity[i] + '.dcm'\n",
        "  ds2 = dicom.dcmread(os.path.join('datasets/RSNA/stage_2_train_images/',s))\n",
        "  pixel_array_numpy = ds2.pixel_array\n",
        "  imgname = 'lung_opacity' + str(i) + '.png'\n",
        "  cv2.imwrite(os.path.join('test/lung_opacity', imgname), pixel_array_numpy)"
      ],
      "execution_count": null,
      "outputs": []
    },
    {
      "cell_type": "code",
      "metadata": {
        "id": "eTjjmjwmhI3-"
      },
      "source": [
        "import glob\n",
        "d2 = glob.glob(\"train/COVID-19/*\")"
      ],
      "execution_count": null,
      "outputs": []
    },
    {
      "cell_type": "code",
      "metadata": {
        "id": "t6-UT-dxjsdv"
      },
      "source": [
        "d3 = d2[500:750]"
      ],
      "execution_count": null,
      "outputs": []
    },
    {
      "cell_type": "code",
      "metadata": {
        "id": "ANjVuprhhUdw"
      },
      "source": [
        "#moving files to test data \n",
        "import shutil\n",
        "for file_name in d3:\n",
        "  shutil.move(file_name,'test/Covid')"
      ],
      "execution_count": null,
      "outputs": []
    },
    {
      "cell_type": "code",
      "metadata": {
        "colab": {
          "base_uri": "https://localhost:8080/"
        },
        "id": "rQ6Nz6yxiY5S",
        "outputId": "ee847992-1b24-46ed-a459-19aefcd02487"
      },
      "source": [
        "d2 = glob.glob(\"test/Covid/*\")\n",
        "len(d2)"
      ],
      "execution_count": null,
      "outputs": [
        {
          "output_type": "execute_result",
          "data": {
            "text/plain": [
              "250"
            ]
          },
          "metadata": {
            "tags": []
          },
          "execution_count": 22
        }
      ]
    },
    {
      "cell_type": "code",
      "metadata": {
        "id": "yPMaZ5lKt8Gi"
      },
      "source": [
        "train_datagen = ImageDataGenerator(horizontal_flip=True,vertical_flip=True,rescale=1./255,zoom_range=0.05)"
      ],
      "execution_count": null,
      "outputs": []
    },
    {
      "cell_type": "code",
      "metadata": {
        "id": "4QGbQzPXswD0"
      },
      "source": [
        "from math import ceil"
      ],
      "execution_count": null,
      "outputs": []
    },
    {
      "cell_type": "code",
      "metadata": {
        "colab": {
          "base_uri": "https://localhost:8080/"
        },
        "id": "bEQDDDvnwPWQ",
        "outputId": "1669cc36-0d25-4bde-9694-3d8f5e783c64"
      },
      "source": [
        "train_generator = train_datagen.flow_from_directory(\n",
        "    '/content/train',\n",
        "    batch_size = 11,\n",
        "    #steps_per_epoch = ceil(3893 /17),\n",
        "    target_size=(300, 300),\n",
        "    class_mode='categorical')"
      ],
      "execution_count": null,
      "outputs": [
        {
          "output_type": "stream",
          "text": [
            "Found 2193 images belonging to 3 classes.\n"
          ],
          "name": "stdout"
        }
      ]
    },
    {
      "cell_type": "code",
      "metadata": {
        "colab": {
          "base_uri": "https://localhost:8080/"
        },
        "id": "XlFHlkiAw5v5",
        "outputId": "05d6d136-d258-4063-9a2e-69caa7f1bef1"
      },
      "source": [
        "test_datagen = ImageDataGenerator(rescale=1./255)\n",
        "validation_generator = test_datagen.flow_from_directory(\n",
        "    '/content/test',\n",
        "    batch_size = 11,\n",
        "    target_size=(300,300),\n",
        "    class_mode='categorical')"
      ],
      "execution_count": null,
      "outputs": [
        {
          "output_type": "stream",
          "text": [
            "Found 650 images belonging to 3 classes.\n"
          ],
          "name": "stdout"
        }
      ]
    },
    {
      "cell_type": "code",
      "metadata": {
        "id": "KTp_jiVQLl9M"
      },
      "source": [
        "import keras.backend as k \n",
        "try:\n",
        "  os.mkdir('sav-models')\n",
        "except:\n",
        "  pass"
      ],
      "execution_count": null,
      "outputs": []
    },
    {
      "cell_type": "code",
      "metadata": {
        "id": "ewiVogTkNXKW"
      },
      "source": [
        "try:\n",
        "  shutil.rmtree('datasets')\n",
        "except:\n",
        "  pass"
      ],
      "execution_count": null,
      "outputs": []
    },
    {
      "cell_type": "code",
      "metadata": {
        "colab": {
          "base_uri": "https://localhost:8080/"
        },
        "id": "1qvERS0TpvAZ",
        "outputId": "f088af52-2aa8-4342-9e38-1db7ea1d1567"
      },
      "source": [
        "import keras as keras_standalone\n",
        "import tensorflow\n",
        "import tensorflow.keras as keras_tf\n",
        "print(\"keras_standalone:\", keras_standalone.__version__, \" keras_tf:\", keras_tf.__version__, \" tf:\", tensorflow.__version__)"
      ],
      "execution_count": null,
      "outputs": [
        {
          "output_type": "stream",
          "text": [
            "keras_standalone: 2.2.4  keras_tf: 2.2.4-tf  tf: 1.15.2\n"
          ],
          "name": "stdout"
        }
      ]
    },
    {
      "cell_type": "code",
      "metadata": {
        "id": "PKPzP2gnqalp"
      },
      "source": [
        "%tensorflow_version 1.x"
      ],
      "execution_count": null,
      "outputs": []
    },
    {
      "cell_type": "code",
      "metadata": {
        "id": "shDnngGxxL4C",
        "colab": {
          "base_uri": "https://localhost:8080/"
        },
        "outputId": "07c509cc-5cf7-497a-e4bb-663011b5326a"
      },
      "source": [
        "#full_name='concatenate'\n",
        " #Number of classes\n",
        "visible = Input(shape=(300,300,3))\n",
        "base_model1 = Xception(weights='imagenet', include_top=False, input_tensor= visible)\n",
        "features1 = base_model1.output\n",
        "base_model2 = ResNet50(weights='imagenet', include_top=False, input_tensor= visible)\n",
        "features2 = base_model2.output"
      ],
      "execution_count": null,
      "outputs": [
        {
          "output_type": "stream",
          "text": [
            "WARNING:tensorflow:From /usr/local/lib/python3.6/dist-packages/keras/backend/tensorflow_backend.py:74: The name tf.get_default_graph is deprecated. Please use tf.compat.v1.get_default_graph instead.\n",
            "\n",
            "WARNING:tensorflow:From /usr/local/lib/python3.6/dist-packages/keras/backend/tensorflow_backend.py:517: The name tf.placeholder is deprecated. Please use tf.compat.v1.placeholder instead.\n",
            "\n",
            "WARNING:tensorflow:From /usr/local/lib/python3.6/dist-packages/keras/backend/tensorflow_backend.py:4138: The name tf.random_uniform is deprecated. Please use tf.random.uniform instead.\n",
            "\n",
            "WARNING:tensorflow:From /usr/local/lib/python3.6/dist-packages/keras/backend/tensorflow_backend.py:174: The name tf.get_default_session is deprecated. Please use tf.compat.v1.get_default_session instead.\n",
            "\n",
            "WARNING:tensorflow:From /usr/local/lib/python3.6/dist-packages/keras/backend/tensorflow_backend.py:181: The name tf.ConfigProto is deprecated. Please use tf.compat.v1.ConfigProto instead.\n",
            "\n",
            "WARNING:tensorflow:From /usr/local/lib/python3.6/dist-packages/keras/backend/tensorflow_backend.py:186: The name tf.Session is deprecated. Please use tf.compat.v1.Session instead.\n",
            "\n",
            "WARNING:tensorflow:From /usr/local/lib/python3.6/dist-packages/keras/backend/tensorflow_backend.py:190: The name tf.global_variables is deprecated. Please use tf.compat.v1.global_variables instead.\n",
            "\n",
            "WARNING:tensorflow:From /usr/local/lib/python3.6/dist-packages/keras/backend/tensorflow_backend.py:199: The name tf.is_variable_initialized is deprecated. Please use tf.compat.v1.is_variable_initialized instead.\n",
            "\n",
            "WARNING:tensorflow:From /usr/local/lib/python3.6/dist-packages/keras/backend/tensorflow_backend.py:206: The name tf.variables_initializer is deprecated. Please use tf.compat.v1.variables_initializer instead.\n",
            "\n",
            "WARNING:tensorflow:From /usr/local/lib/python3.6/dist-packages/keras/backend/tensorflow_backend.py:1834: The name tf.nn.fused_batch_norm is deprecated. Please use tf.compat.v1.nn.fused_batch_norm instead.\n",
            "\n",
            "WARNING:tensorflow:From /usr/local/lib/python3.6/dist-packages/keras/backend/tensorflow_backend.py:133: The name tf.placeholder_with_default is deprecated. Please use tf.compat.v1.placeholder_with_default instead.\n",
            "\n",
            "WARNING:tensorflow:From /usr/local/lib/python3.6/dist-packages/keras/backend/tensorflow_backend.py:3976: The name tf.nn.max_pool is deprecated. Please use tf.nn.max_pool2d instead.\n",
            "\n",
            "Downloading data from https://github.com/fchollet/deep-learning-models/releases/download/v0.4/xception_weights_tf_dim_ordering_tf_kernels_notop.h5\n",
            "83689472/83683744 [==============================] - 1s 0us/step\n",
            "WARNING:tensorflow:From /usr/local/lib/python3.6/dist-packages/keras/backend/tensorflow_backend.py:4185: The name tf.truncated_normal is deprecated. Please use tf.random.truncated_normal instead.\n",
            "\n"
          ],
          "name": "stdout"
        },
        {
          "output_type": "stream",
          "text": [
            "/tensorflow-1.15.2/python3.6/keras_applications/resnet50.py:265: UserWarning: The output shape of `ResNet50(include_top=False)` has been changed since Keras 2.2.0.\n",
            "  warnings.warn('The output shape of `ResNet50(include_top=False)` '\n"
          ],
          "name": "stderr"
        },
        {
          "output_type": "stream",
          "text": [
            "Downloading data from https://github.com/fchollet/deep-learning-models/releases/download/v0.2/resnet50_weights_tf_dim_ordering_tf_kernels_notop.h5\n",
            "94658560/94653016 [==============================] - 1s 0us/step\n"
          ],
          "name": "stdout"
        }
      ]
    },
    {
      "cell_type": "code",
      "metadata": {
        "colab": {
          "base_uri": "https://localhost:8080/"
        },
        "id": "Lt0zhfRV6Nnx",
        "outputId": "1682ec2d-7fe9-4552-baaf-671f92940195"
      },
      "source": [
        "features2.shape"
      ],
      "execution_count": null,
      "outputs": [
        {
          "output_type": "execute_result",
          "data": {
            "text/plain": [
              "TensorShape([Dimension(None), Dimension(10), Dimension(10), Dimension(2048)])"
            ]
          },
          "metadata": {
            "tags": []
          },
          "execution_count": 31
        }
      ]
    },
    {
      "cell_type": "code",
      "metadata": {
        "id": "6AVFaOz_Npu7",
        "colab": {
          "base_uri": "https://localhost:8080/"
        },
        "outputId": "f6cb0875-bf88-44e1-f7a1-9650a5b25f74"
      },
      "source": [
        "merge = keras.layers.concatenate([features1,features2]) #Concatenate the extracted features\n",
        "conv = keras.layers.Conv2D(1024, (1, 1),padding='same')(merge) #add the concatenated features to a convolutional layer\n",
        "feature = Flatten(name='flatten')(conv)\n",
        "dp = Dropout(0.5)(feature) #add dropout\n",
        "preds = Dense(3, activation='softmax', kernel_initializer=RandomNormal(mean=0.0, stddev=0.001))(dp) \n",
        "Concatenated_model = Model(inputs=visible,outputs=preds)"
      ],
      "execution_count": null,
      "outputs": [
        {
          "output_type": "stream",
          "text": [
            "WARNING:tensorflow:From /usr/local/lib/python3.6/dist-packages/keras/backend/tensorflow_backend.py:3445: calling dropout (from tensorflow.python.ops.nn_ops) with keep_prob is deprecated and will be removed in a future version.\n",
            "Instructions for updating:\n",
            "Please use `rate` instead of `keep_prob`. Rate should be set to `rate = 1 - keep_prob`.\n",
            "WARNING:tensorflow:From /usr/local/lib/python3.6/dist-packages/keras/backend/tensorflow_backend.py:4115: The name tf.random_normal is deprecated. Please use tf.random.normal instead.\n",
            "\n"
          ],
          "name": "stdout"
        }
      ]
    },
    {
      "cell_type": "code",
      "metadata": {
        "id": "JHw2DfKP0kpM"
      },
      "source": [
        "#Concatenated_model.summary()"
      ],
      "execution_count": null,
      "outputs": []
    },
    {
      "cell_type": "code",
      "metadata": {
        "id": "vJ6hDnipPQUg"
      },
      "source": [
        "for layer in Concatenated_model.layers:\n",
        "  layer.trainable = True"
      ],
      "execution_count": null,
      "outputs": []
    },
    {
      "cell_type": "code",
      "metadata": {
        "id": "5Hl-cgIBjhkd",
        "colab": {
          "base_uri": "https://localhost:8080/"
        },
        "outputId": "e6b503bf-00a9-42c8-965c-9cbf683550dd"
      },
      "source": [
        "full_name = 'combined'\n",
        "Concatenated_model.compile(optimizer=keras.optimizers.Adam(lr=0.0001), loss='categorical_crossentropy',metrics=['accuracy'])\n",
        "filepath=\"sav-models/%s-{epoch:02d}.hdf5\"%full_name \n",
        "checkpoint = ModelCheckpoint(filepath, monitor='val_acc', save_best_only=1, mode='max') #creating checkpoint to save the best validation accuracy\n",
        "callbacks_list = [checkpoint]\n",
        "history = Concatenated_model.fit_generator(train_generator,validation_data = validation_generator,\n",
        "                                 validation_steps=68, epochs=10,steps_per_epoch=263, shuffle=True,callbacks=callbacks_list)"
      ],
      "execution_count": null,
      "outputs": [
        {
          "output_type": "stream",
          "text": [
            "Epoch 1/10\n",
            "263/263 [==============================] - 159s 604ms/step - loss: 0.3956 - acc: 0.8843 - val_loss: 0.2918 - val_acc: 0.9024\n",
            "Epoch 2/10\n",
            "263/263 [==============================] - 131s 500ms/step - loss: 0.5458 - acc: 0.8892 - val_loss: 0.5681 - val_acc: 0.8686\n",
            "Epoch 3/10\n",
            "263/263 [==============================] - 132s 500ms/step - loss: 0.2289 - acc: 0.9309 - val_loss: 0.1872 - val_acc: 0.9404\n",
            "Epoch 4/10\n",
            "263/263 [==============================] - 131s 499ms/step - loss: 0.2815 - acc: 0.9389 - val_loss: 0.5392 - val_acc: 0.8672\n",
            "Epoch 5/10\n",
            "263/263 [==============================] - 131s 499ms/step - loss: 0.1245 - acc: 0.9582 - val_loss: 0.3596 - val_acc: 0.9079\n",
            "Epoch 6/10\n",
            "263/263 [==============================] - 131s 499ms/step - loss: 0.1312 - acc: 0.9682 - val_loss: 0.2935 - val_acc: 0.9079\n",
            "Epoch 7/10\n",
            "263/263 [==============================] - 131s 499ms/step - loss: 0.1053 - acc: 0.9682 - val_loss: 0.6528 - val_acc: 0.8558\n",
            "Epoch 8/10\n",
            "263/263 [==============================] - 131s 498ms/step - loss: 0.7203 - acc: 0.9036 - val_loss: 9.6579 - val_acc: 0.3997\n",
            "Epoch 9/10\n",
            "263/263 [==============================] - 131s 500ms/step - loss: 1.2762 - acc: 0.8712 - val_loss: 1.5593 - val_acc: 0.8821\n",
            "Epoch 10/10\n",
            "263/263 [==============================] - 132s 500ms/step - loss: 0.5969 - acc: 0.9189 - val_loss: 0.6343 - val_acc: 0.9187\n"
          ],
          "name": "stdout"
        }
      ]
    },
    {
      "cell_type": "code",
      "metadata": {
        "colab": {
          "base_uri": "https://localhost:8080/"
        },
        "id": "TJgdtrDbusiI",
        "outputId": "d818e473-e5d4-4565-c28a-b13d300dd512"
      },
      "source": [
        "glob.glob('sav-models/*')"
      ],
      "execution_count": null,
      "outputs": [
        {
          "output_type": "execute_result",
          "data": {
            "text/plain": [
              "['sav-models/combined-01.hdf5', 'sav-models/combined-03.hdf5']"
            ]
          },
          "metadata": {
            "tags": []
          },
          "execution_count": 37
        }
      ]
    },
    {
      "cell_type": "code",
      "metadata": {
        "id": "q-zp3vSqQ7p3"
      },
      "source": [
        "from keras.models import load_model\n",
        "from keras.preprocessing import image\n",
        "# dimensions of our images\n",
        "img_width, img_height = 300, 300"
      ],
      "execution_count": null,
      "outputs": []
    },
    {
      "cell_type": "code",
      "metadata": {
        "id": "DJU8tyFuAI2w"
      },
      "source": [
        "# load the model we saved\n",
        "model = keras.models.load_model('/content/sav-models/combined-03.hdf5')"
      ],
      "execution_count": null,
      "outputs": []
    },
    {
      "cell_type": "code",
      "metadata": {
        "id": "JSlkEIq-_Uqe"
      },
      "source": [
        "from keras.optimizers import adam"
      ],
      "execution_count": null,
      "outputs": []
    },
    {
      "cell_type": "code",
      "metadata": {
        "id": "Q6O8yMgf-sSC"
      },
      "source": [
        "model.compile(optimizer=adam(lr=0.0001), loss='categorical_crossentropy',metrics=['accuracy'])"
      ],
      "execution_count": null,
      "outputs": []
    },
    {
      "cell_type": "code",
      "metadata": {
        "id": "SeRt6snpWmu7"
      },
      "source": [
        "# predicting images\n",
        "img1 = image.load_img('/content/test/Covid/COVID-19 (101).png', target_size=(img_width, img_height))\n",
        "x1 = image.img_to_array(img1)\n",
        "x2 = np.expand_dims(x1, axis=0)"
      ],
      "execution_count": null,
      "outputs": []
    },
    {
      "cell_type": "code",
      "metadata": {
        "colab": {
          "base_uri": "https://localhost:8080/"
        },
        "id": "FFLkPClITHDP",
        "outputId": "d6e9d91d-b0fb-430c-f07e-76958e3f1b40"
      },
      "source": [
        "model.predict(x2)"
      ],
      "execution_count": null,
      "outputs": [
        {
          "output_type": "execute_result",
          "data": {
            "text/plain": [
              "array([[1., 0., 0.]], dtype=float32)"
            ]
          },
          "metadata": {
            "tags": []
          },
          "execution_count": 45
        }
      ]
    },
    {
      "cell_type": "code",
      "metadata": {
        "id": "NcHR502BStkO"
      },
      "source": [
        "images = np.vstack([x2])\n",
        "s = model.predict(images)"
      ],
      "execution_count": null,
      "outputs": []
    },
    {
      "cell_type": "code",
      "metadata": {
        "colab": {
          "base_uri": "https://localhost:8080/"
        },
        "id": "9nyHhuDwTNSv",
        "outputId": "76d6e0fa-4daf-42be-e609-2bd93f9a55f7"
      },
      "source": [
        "np.argmax(s,axis=1)"
      ],
      "execution_count": null,
      "outputs": [
        {
          "output_type": "execute_result",
          "data": {
            "text/plain": [
              "array([0])"
            ]
          },
          "metadata": {
            "tags": []
          },
          "execution_count": 47
        }
      ]
    },
    {
      "cell_type": "code",
      "metadata": {
        "colab": {
          "base_uri": "https://localhost:8080/",
          "height": 314
        },
        "id": "yb47EMzoWS8y",
        "outputId": "08fda73a-e33f-491d-c80f-b9c765fcc8cb"
      },
      "source": [
        "import numpy as np\n",
        "import skimage.io\n",
        "from skimage import transform\n",
        "Xi = skimage.io.imread(\"/content/test/Covid/COVID-19 (101).png\")\n",
        "Xi = skimage.transform.resize(Xi, (300,300)) \n",
        "Xi = (Xi - 0.5)*2 #Inception pre-processing\n",
        "skimage.io.imshow(Xi/2+0.5) # Show image before inception preprocessing"
      ],
      "execution_count": null,
      "outputs": [
        {
          "output_type": "execute_result",
          "data": {
            "text/plain": [
              "<matplotlib.image.AxesImage at 0x7efe1752ee80>"
            ]
          },
          "metadata": {
            "tags": []
          },
          "execution_count": 65
        },
        {
          "output_type": "display_data",
          "data": {
            "image/png": "[encoded data removed]",
            "text/plain": [
              "<Figure size 432x288 with 1 Axes>"
            ]
          },
          "metadata": {
            "tags": [],
            "needs_background": "light"
          }
        }
      ]
    },
    {
      "cell_type": "code",
      "metadata": {
        "colab": {
          "base_uri": "https://localhost:8080/"
        },
        "id": "Xi-tfEStY8iu",
        "outputId": "978271ac-daad-42d3-b814-68eb9b1ccbe0"
      },
      "source": [
        "preds = model.predict(x2)\n",
        "top_pred_classes = preds[0].argsort()[-3:][::-1] # Save ids of top 5 classes\n",
        "preds[0]"
      ],
      "execution_count": null,
      "outputs": [
        {
          "output_type": "execute_result",
          "data": {
            "text/plain": [
              "array([1., 0., 0.], dtype=float32)"
            ]
          },
          "metadata": {
            "tags": []
          },
          "execution_count": 82
        }
      ]
    },
    {
      "cell_type": "markdown",
      "metadata": {
        "id": "PHtbn8fdam6p"
      },
      "source": [
        "Expainabale AI method - LIME"
      ]
    },
    {
      "cell_type": "code",
      "metadata": {
        "colab": {
          "base_uri": "https://localhost:8080/",
          "height": 314
        },
        "id": "JubC1tfObOD7",
        "outputId": "89d70b98-95a6-44d5-d234-01157d82c2f1"
      },
      "source": [
        "import skimage.segmentation\n",
        "superpixels = skimage.segmentation.quickshift(x1, kernel_size=4,max_dist=200, ratio=0.2)\n",
        "num_superpixels = np.unique(superpixels).shape[0]\n",
        "skimage.io.imshow(skimage.segmentation.mark_boundaries(Xi/2+0.5, superpixels))"
      ],
      "execution_count": null,
      "outputs": [
        {
          "output_type": "execute_result",
          "data": {
            "text/plain": [
              "<matplotlib.image.AxesImage at 0x7efe175e8048>"
            ]
          },
          "metadata": {
            "tags": []
          },
          "execution_count": 84
        },
        {
          "output_type": "display_data",
          "data": {
            "image/png": "[encoded data removed]",
            "text/plain": [
              "<Figure size 432x288 with 1 Axes>"
            ]
          },
          "metadata": {
            "tags": [],
            "needs_background": "light"
          }
        }
      ]
    },
    {
      "cell_type": "code",
      "metadata": {
        "id": "e1JwVYcPzyTE",
        "colab": {
          "base_uri": "https://localhost:8080/",
          "height": 436
        },
        "outputId": "1e4990dd-06ef-4814-bb93-23bdf64e9b2c"
      },
      "source": [
        "num_perturb = 150\n",
        "perturbations = np.random.binomial(1, 0.5, size=(num_perturb, num_superpixels))\n",
        "\n",
        "#Create function to apply perturbations to images\n",
        "import copy\n",
        "def perturb_image(img,perturbation,segments): \n",
        "  active_pixels = np.where(perturbation == 1)[0]\n",
        "  mask = np.zeros(segments.shape)\n",
        "  for active in active_pixels:\n",
        "      mask[segments == active] = 1 \n",
        "  perturbed_image = copy.deepcopy(img)\n",
        "  perturbed_image = perturbed_image*mask[:,:,np.newaxis]\n",
        "  return perturbed_image\n",
        "\n",
        "#Show example of perturbations\n",
        "print(perturbations[0]) \n",
        "skimage.io.imshow(perturb_image(x1/2+0.5,perturbations[1],superpixels))"
      ],
      "execution_count": null,
      "outputs": [
        {
          "output_type": "stream",
          "text": [
            "/usr/local/lib/python3.6/dist-packages/skimage/io/_plugins/matplotlib_plugin.py:150: UserWarning: Float image out of standard range; displaying image with stretched contrast.\n",
            "  lo, hi, cmap = _get_display_range(image)\n",
            "Clipping input data to the valid range for imshow with RGB data ([0..1] for floats or [0..255] for integers).\n"
          ],
          "name": "stderr"
        },
        {
          "output_type": "stream",
          "text": [
            "[0 1 1 0 1 1 1 0 0 1 0 0 0 1 1 0 1 0 1 1 0 1 1 0 0 0 1 0 1 0 0 1 1 1 1 1 0\n",
            " 1 0 0 0 1 1 1 0 1 1 0 0 0 1 1 1 0 0 1 0 1 1 1 1 0 1 1 1 1 0 1 1 1 0 1 1 1\n",
            " 0 0 0 1 0 0 1 1 1 1 1 1 0 0 1 1 1 1 1 1 0 1 0 0 0 0 0 0 1 1 1 1 0 0]\n"
          ],
          "name": "stdout"
        },
        {
          "output_type": "execute_result",
          "data": {
            "text/plain": [
              "<matplotlib.image.AxesImage at 0x7efe06417668>"
            ]
          },
          "metadata": {
            "tags": []
          },
          "execution_count": 100
        },
        {
          "output_type": "display_data",
          "data": {
            "image/png": "[encoded data removed]",
            "text/plain": [
              "<Figure size 432x288 with 2 Axes>"
            ]
          },
          "metadata": {
            "tags": [],
            "needs_background": "light"
          }
        }
      ]
    },
    {
      "cell_type": "code",
      "metadata": {
        "id": "xYaWBUZQQT0P",
        "colab": {
          "base_uri": "https://localhost:8080/"
        },
        "outputId": "ea9f9c08-2962-4181-9c42-0527e6155436"
      },
      "source": [
        "predictions = []\n",
        "for pert in perturbations:\n",
        "  perturbed_img = perturb_image(x1,pert,superpixels)\n",
        "  pred = model.predict(perturbed_img[np.newaxis,:,:,:])\n",
        "  predictions.append(pred)\n",
        "\n",
        "predictions = np.array(predictions)\n",
        "print(predictions.shape)"
      ],
      "execution_count": null,
      "outputs": [
        {
          "output_type": "stream",
          "text": [
            "(150, 1, 3)\n"
          ],
          "name": "stdout"
        }
      ]
    },
    {
      "cell_type": "code",
      "metadata": {
        "id": "hbamDc5D_G0x",
        "colab": {
          "base_uri": "https://localhost:8080/"
        },
        "outputId": "d9c5a533-8995-43f8-99e8-aaafdae2c93e"
      },
      "source": [
        "#Compute distances to original image\n",
        "import sklearn.metrics\n",
        "original_image = np.ones(num_superpixels)[np.newaxis,:] #Perturbation with all superpixels enabled \n",
        "distances = sklearn.metrics.pairwise_distances(perturbations,original_image, metric='cosine').ravel()\n",
        "print(distances.shape)\n",
        "\n",
        "#Transform distances to a value between 0 an 1 (weights) using a kernel function\n",
        "kernel_width = 0.25\n",
        "weights = np.sqrt(np.exp(-(distances**2)/kernel_width**2)) #Kernel function\n",
        "print(weights.shape)"
      ],
      "execution_count": null,
      "outputs": [
        {
          "output_type": "stream",
          "text": [
            "(150,)\n",
            "(150,)\n"
          ],
          "name": "stdout"
        }
      ]
    },
    {
      "cell_type": "code",
      "metadata": {
        "colab": {
          "base_uri": "https://localhost:8080/"
        },
        "id": "qQK5yL8udjiF",
        "outputId": "3979801f-84f1-43f3-d3ea-c432a0b26464"
      },
      "source": [
        "top_pred_classes[0]"
      ],
      "execution_count": null,
      "outputs": [
        {
          "output_type": "execute_result",
          "data": {
            "text/plain": [
              "0"
            ]
          },
          "metadata": {
            "tags": []
          },
          "execution_count": 90
        }
      ]
    },
    {
      "cell_type": "code",
      "metadata": {
        "id": "vOWgNv-C0UQI",
        "colab": {
          "base_uri": "https://localhost:8080/",
          "height": 385
        },
        "outputId": "488f8794-f6c9-42a6-fa22-322418cd58af"
      },
      "source": [
        "#Estimate linear model\n",
        "from sklearn.linear_model import LinearRegression\n",
        "class_to_explain = top_pred_classes[0] #Labrador class\n",
        "simpler_model = LinearRegression()\n",
        "simpler_model.fit(X=perturbations, y=predictions[:,:,class_to_explain], sample_weight=weights)\n",
        "coeff = simpler_model.coef_[0]\n",
        "\n",
        "#Use coefficients from linear model to extract top features\n",
        "num_top_features = 19\n",
        "top_features = np.argsort(coeff)[-num_top_features:] \n",
        "\n",
        "#Show only the superpixels corresponding to the top features\n",
        "mask = np.zeros(num_superpixels) \n",
        "mask[top_features]= True #Activate top superpixels\n",
        "skimage.io.imshow(perturb_image(x1/2+0.5,mask,superpixels))"
      ],
      "execution_count": null,
      "outputs": [
        {
          "output_type": "stream",
          "text": [
            "/usr/local/lib/python3.6/dist-packages/skimage/io/_plugins/matplotlib_plugin.py:150: UserWarning: Float image out of standard range; displaying image with stretched contrast.\n",
            "  lo, hi, cmap = _get_display_range(image)\n",
            "Clipping input data to the valid range for imshow with RGB data ([0..1] for floats or [0..255] for integers).\n"
          ],
          "name": "stderr"
        },
        {
          "output_type": "execute_result",
          "data": {
            "text/plain": [
              "<matplotlib.image.AxesImage at 0x7efe05eb06a0>"
            ]
          },
          "metadata": {
            "tags": []
          },
          "execution_count": 109
        },
        {
          "output_type": "display_data",
          "data": {
            "image/png": "[encoded data removed]",
            "text/plain": [
              "<Figure size 432x288 with 2 Axes>"
            ]
          },
          "metadata": {
            "tags": [],
            "needs_background": "light"
          }
        }
      ]
    },
    {
      "cell_type": "markdown",
      "metadata": {
        "id": "IqwIHb4pauYc"
      },
      "source": [
        "Explainable AI method - Deep Taylor Decomposition"
      ]
    },
    {
      "cell_type": "code",
      "metadata": {
        "id": "ZbbQGDpne31J"
      },
      "source": [
        "#deep taylor decomposition\n",
        "import innvestigate\n",
        "import innvestigate.utils"
      ],
      "execution_count": null,
      "outputs": []
    },
    {
      "cell_type": "code",
      "metadata": {
        "id": "YJ_288e9foOE"
      },
      "source": [
        "model = innvestigate.utils.model_wo_softmax(model)\n",
        "\n",
        "# Create analyzer\n",
        "analyzer = innvestigate.create_analyzer(\"deep_taylor\", model)"
      ],
      "execution_count": null,
      "outputs": []
    },
    {
      "cell_type": "code",
      "metadata": {
        "colab": {
          "base_uri": "https://localhost:8080/"
        },
        "id": "8x7t-WvlgbvP",
        "outputId": "1a186429-f7f9-484a-d1ae-01559034fb22"
      },
      "source": [
        "x2.shape"
      ],
      "execution_count": null,
      "outputs": [
        {
          "output_type": "execute_result",
          "data": {
            "text/plain": [
              "(1, 300, 300, 3)"
            ]
          },
          "metadata": {
            "tags": []
          },
          "execution_count": 115
        }
      ]
    },
    {
      "cell_type": "code",
      "metadata": {
        "id": "02TFKsvogKNt"
      },
      "source": [
        "a = analyzer.analyze(x2)"
      ],
      "execution_count": null,
      "outputs": []
    },
    {
      "cell_type": "code",
      "metadata": {
        "colab": {
          "base_uri": "https://localhost:8080/"
        },
        "id": "pmmTZ-aoheB1",
        "outputId": "5c725dde-e8bf-4b97-8adb-f5c694f179da"
      },
      "source": [
        "a.shape"
      ],
      "execution_count": null,
      "outputs": [
        {
          "output_type": "execute_result",
          "data": {
            "text/plain": [
              "(1, 300, 300, 3)"
            ]
          },
          "metadata": {
            "tags": []
          },
          "execution_count": 132
        }
      ]
    },
    {
      "cell_type": "code",
      "metadata": {
        "id": "h2BoLm0iiHxZ"
      },
      "source": [
        "W = a = a.sum(axis=np.argmax(np.asarray(a.shape) == 3))"
      ],
      "execution_count": null,
      "outputs": []
    },
    {
      "cell_type": "code",
      "metadata": {
        "id": "9fPSCqx_gOqc"
      },
      "source": [
        "W /= np.max(np.abs(W))"
      ],
      "execution_count": null,
      "outputs": []
    },
    {
      "cell_type": "code",
      "metadata": {
        "colab": {
          "base_uri": "https://localhost:8080/"
        },
        "id": "Z4Nen_HCjDbw",
        "outputId": "312da74a-e368-4bb1-a5fc-f6221e263289"
      },
      "source": [
        "W.shape"
      ],
      "execution_count": null,
      "outputs": [
        {
          "output_type": "execute_result",
          "data": {
            "text/plain": [
              "(300, 300)"
            ]
          },
          "metadata": {
            "tags": []
          },
          "execution_count": 141
        }
      ]
    },
    {
      "cell_type": "code",
      "metadata": {
        "colab": {
          "base_uri": "https://localhost:8080/",
          "height": 286
        },
        "id": "CYzkIPBggpYI",
        "outputId": "17ea20bc-af5f-41bd-da7e-07982222eb76"
      },
      "source": [
        "plt.imshow(W, cmap=\"seismic\", clim=(-1, 1))"
      ],
      "execution_count": null,
      "outputs": [
        {
          "output_type": "execute_result",
          "data": {
            "text/plain": [
              "<matplotlib.image.AxesImage at 0x7efe024717b8>"
            ]
          },
          "metadata": {
            "tags": []
          },
          "execution_count": 142
        },
        {
          "output_type": "display_data",
          "data": {
            "image/png": "[encoded data removed]",
            "text/plain": [
              "<Figure size 432x288 with 1 Axes>"
            ]
          },
          "metadata": {
            "tags": [],
            "needs_background": "light"
          }
        }
      ]
    },
    {
      "cell_type": "markdown",
      "metadata": {
        "id": "ZvJ5_8QDa1w3"
      },
      "source": [
        "Explainable AI method - Layer Wise Relevance Propagation ( In progress)"
      ]
    },
    {
      "cell_type": "code",
      "metadata": {
        "id": "l_9PYFnpurHn"
      },
      "source": [
        "\n",
        "weights_layer = []\n",
        "layer_description = []\n",
        "for layer in model.layers:\n",
        "  layer_description.append(layer.get_config())\n",
        "  weights_layer.append(layer.get_weights())\n",
        "  #print(layer.get_config(), layer.get_weights())"
      ],
      "execution_count": null,
      "outputs": []
    },
    {
      "cell_type": "code",
      "metadata": {
        "colab": {
          "base_uri": "https://localhost:8080/"
        },
        "id": "Io9pLO7n6ONI",
        "outputId": "1927b03e-adb2-4a5c-c65b-38a17c2cf7b0"
      },
      "source": [
        "layer_description[7]"
      ],
      "execution_count": null,
      "outputs": [
        {
          "output_type": "execute_result",
          "data": {
            "text/plain": [
              "{'activation': 'linear',\n",
              " 'activity_regularizer': None,\n",
              " 'bias_constraint': None,\n",
              " 'bias_initializer': {'class_name': 'Zeros', 'config': {}},\n",
              " 'bias_regularizer': None,\n",
              " 'data_format': 'channels_last',\n",
              " 'dilation_rate': (1, 1),\n",
              " 'filters': 64,\n",
              " 'kernel_constraint': None,\n",
              " 'kernel_initializer': {'class_name': 'VarianceScaling',\n",
              "  'config': {'distribution': 'normal',\n",
              "   'mode': 'fan_in',\n",
              "   'scale': 2.0,\n",
              "   'seed': None}},\n",
              " 'kernel_regularizer': None,\n",
              " 'kernel_size': (1, 1),\n",
              " 'name': 'res2a_branch2a',\n",
              " 'padding': 'valid',\n",
              " 'strides': (1, 1),\n",
              " 'trainable': True,\n",
              " 'use_bias': True}"
            ]
          },
          "metadata": {
            "tags": []
          },
          "execution_count": 187
        }
      ]
    },
    {
      "cell_type": "code",
      "metadata": {
        "colab": {
          "base_uri": "https://localhost:8080/"
        },
        "id": "fNiA1C7_0N_G",
        "outputId": "a520c56e-4b00-4cbd-f7cd-82b881c63f80"
      },
      "source": [
        "weights = np.array(weights_layer)"
      ],
      "execution_count": null,
      "outputs": [
        {
          "output_type": "stream",
          "text": [
            "/usr/local/lib/python3.6/dist-packages/ipykernel_launcher.py:1: VisibleDeprecationWarning: Creating an ndarray from ragged nested sequences (which is a list-or-tuple of lists-or-tuples-or ndarrays with different lengths or shapes) is deprecated. If you meant to do this, you must specify 'dtype=object' when creating the ndarray\n",
            "  \"\"\"Entry point for launching an IPython kernel.\n"
          ],
          "name": "stderr"
        }
      ]
    },
    {
      "cell_type": "code",
      "metadata": {
        "colab": {
          "base_uri": "https://localhost:8080/"
        },
        "id": "EWFNgCtRCidX",
        "outputId": "7ee380e2-6825-49d7-a7f1-66459f4c6e14"
      },
      "source": [
        "weights_layer[7]"
      ],
      "execution_count": null,
      "outputs": [
        {
          "output_type": "execute_result",
          "data": {
            "text/plain": [
              "[array([[[[ 0.0827594 , -0.26028505,  0.06575549, ..., -0.02824134,\n",
              "           -0.1658913 , -0.01760689],\n",
              "          [ 0.0136976 ,  0.0218186 , -0.02891312, ..., -0.01754489,\n",
              "            0.0214523 , -0.02278667],\n",
              "          [-0.03161464, -0.00809424,  0.00359808, ..., -0.00301017,\n",
              "           -0.00249234,  0.01185599],\n",
              "          ...,\n",
              "          [-0.01035775,  0.00857294,  0.01009123, ..., -0.02029509,\n",
              "            0.00426882,  0.03550098],\n",
              "          [-0.02192058,  0.01154039, -0.0059851 , ...,  0.01056229,\n",
              "           -0.01515489,  0.04706977],\n",
              "          [-0.0173255 ,  0.01695794, -0.26176965, ...,  0.02220934,\n",
              "           -0.107053  , -0.09214754]]]], dtype=float32),\n",
              " array([-1.2344966e-03,  4.8557325e-05,  1.7685333e-04,  8.3367217e-05,\n",
              "        -1.3882754e-03,  3.6460362e-05,  6.4828258e-04,  3.7275848e-04,\n",
              "         1.9720262e-03, -5.4997113e-04, -9.6802023e-04,  5.2651772e-05,\n",
              "        -1.6666554e-05,  2.4605298e-04,  6.0864014e-04, -2.6915214e-04,\n",
              "        -1.6294273e-04, -1.1796416e-03,  6.3788268e-04,  4.4387110e-04,\n",
              "         1.5254665e-04,  2.0805965e-05,  1.4586424e-04,  3.4858030e-04,\n",
              "        -9.3022117e-04, -8.9033868e-04,  1.9420318e-04,  5.8273470e-04,\n",
              "        -1.5667327e-03, -1.0890672e-03,  2.8272700e-05, -3.0532779e-06,\n",
              "        -1.5939966e-04,  7.0444898e-05, -1.8710304e-04,  2.9085268e-04,\n",
              "         2.9890184e-04,  1.5870974e-04,  9.9780164e-06, -1.1876042e-04,\n",
              "        -7.8276824e-04, -6.4987293e-04, -1.7871035e-04,  5.0539395e-05,\n",
              "         2.6747936e-04,  3.9312450e-04, -9.9960191e-04,  2.0076244e-04,\n",
              "        -1.4516224e-04, -7.7688217e-04,  5.2987816e-05, -3.7003856e-04,\n",
              "        -3.7679242e-04,  1.1226740e-03, -4.8428573e-04,  5.6527413e-05,\n",
              "         1.1293467e-04, -7.9151810e-05, -1.8916465e-04,  1.5823616e-03,\n",
              "         6.0683384e-04,  3.8241612e-04,  2.2456316e-04, -5.8491592e-04],\n",
              "       dtype=float32)]"
            ]
          },
          "metadata": {
            "tags": []
          },
          "execution_count": 194
        }
      ]
    },
    {
      "cell_type": "code",
      "metadata": {
        "id": "OkxN20AlN6l0"
      },
      "source": [
        ""
      ],
      "execution_count": null,
      "outputs": []
    }
  ]
}